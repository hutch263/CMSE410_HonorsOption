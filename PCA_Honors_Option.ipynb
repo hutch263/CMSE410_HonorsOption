{
 "cells": [
  {
   "cell_type": "markdown",
   "metadata": {},
   "source": [
    "# Day # Preclass Assignment: Truthful Visualizations"
   ]
  },
  {
   "cell_type": "markdown",
   "metadata": {},
   "source": [
    "### <p style=\"text-align: right;\"> &#9989; Kaitlyn Hutchins</p>"
   ]
  },
  {
   "cell_type": "markdown",
   "metadata": {},
   "source": [
    "### Goals for Today's Pre-Class Assignment\n",
    "By the end of this assignment, you should be able to:\n",
    "* Identify characteristics of good visualizations\n",
    "* Identify common strategeties that cause visualizations to be misleading\n",
    "* Practice evaluating one's own work\n",
    "\n",
    "### Assignment instructions\n",
    "\n",
    "Do the two readings and their associated questions, and complete the assigned data visualization questions.  Please get started early, and come to office hours if you have any questions! You should also use Slack to help each other thought any issues you run into!\n",
    "\n",
    "**This assignment is due by 11:59 p.m. the day before class,** and should be uploaded into the appropriate \"Pre-class assignments\" submission folder on D2L.  Submission instructions can be found at the end of the notebook."
   ]
  },
  {
   "cell_type": "markdown",
   "metadata": {},
   "source": [
    "## Part 1: Characteristics of a Good Visualization"
   ]
  },
  {
   "cell_type": "markdown",
   "metadata": {},
   "source": [
    "Read Chapter 2 of Alberto Cairo's \"The Truthful Art: Data, Charts, and Maps for Communication.\" Comb through the visualizations you've made in CMSE courses or elsewhere. Select a graph that you think meets at least one of Cairo's \"five qualties of graph visualizations\" and describe why. Consider how the visualization could be altered to better embody one of these qualities, attempt to do so, and describe why.\n",
    "\n",
    "- matplotlib pyplot: https://matplotlib.org/stable/api/pyplot_summary.html \n",
    "- matplotlib altering colors: https://matplotlib.org/stable/gallery/color/named_colors.html\n",
    "- matplotlib expansions of traditional plots: https://matplotlib.org/stable/gallery/lines_bars_and_markers/index.html\n",
    "- Seaborn: https://seaborn.pydata.org/tutorial/function_overview.html#figure-level-vs-axes-level-functions\n",
    "- seaborn aesthetics: https://seaborn.pydata.org/tutorial/aesthetics.html"
   ]
  },
  {
   "cell_type": "code",
   "execution_count": 1,
   "metadata": {},
   "outputs": [],
   "source": [
    "# Paste your original visualization here"
   ]
  },
  {
   "cell_type": "markdown",
   "metadata": {},
   "source": [
    "<font size=\"+3\">&#9998;</font> Write postive quality here"
   ]
  },
  {
   "cell_type": "code",
   "execution_count": 2,
   "metadata": {},
   "outputs": [],
   "source": [
    "# Make your improvements here"
   ]
  },
  {
   "cell_type": "markdown",
   "metadata": {},
   "source": [
    "<font size=\"+3\">&#9998;</font> Write your improved quality here"
   ]
  },
  {
   "cell_type": "markdown",
   "metadata": {},
   "source": [
    "## Part 2: Misleading Visualizations\n",
    "\n",
    "You will encounter a variety of visualizations in your everyday life, which I'm sure by now have recognized can sometimes be misleading. Read chapter 2 of Edward Tufte's \"The Visual Display of Quantitative Information\" (second edition). In your own words, explain why three of the visualizations are misleading and what you would do to make them more truthful."
   ]
  },
  {
   "cell_type": "markdown",
   "metadata": {},
   "source": [
    "<font size=\"+3\">&#9998;</font> Write your answer here"
   ]
  },
  {
   "cell_type": "markdown",
   "metadata": {},
   "source": [
    "## Part 3: Types of Visualizations"
   ]
  },
  {
   "cell_type": "markdown",
   "metadata": {},
   "source": [
    "### Part 3.1: The Data Visualization Catalogue\n",
    "\n",
    "In order to be truthful with you visualizations, you must select the appropriate type of visualization for your purpose. Browse through The Data Visualization Catalogue: https://datavizcatalogue.com/\n",
    "\n",
    "### Part 3.2: Making different types of visualizations\n",
    "After doing that, use curl do download the following data on hospital ratings. Make two substantially different visualizations using this data.\n",
    "\n",
    "https://github.com/hutch263/CMSE410_HonorsOption/blob/9286f2a939a4ac46412c39fcff57d1ff359265ec/HospInfo.csv\n",
    "\n",
    "Hospital General Information General information & quality ratings for almost all US hospitals\n",
    "\n",
    "Found at https://www.kaggle.com/cms/hospital-general-information, data from Centers for Medicare and Medicaid Services\n",
    "\n",
    "Content:\n",
    "This file contains general information about all hospitals that have been registered with Medicare, including their addresses, type of hospital, and ownership structure. It also contains information about the quality of each hospital, in the form of an overall rating (1-5, where 5 is the best possible rating & 1 is the worst), and whether the hospital scored above, same as, or below the national average for a variety of measures.\n",
    "\n",
    "This data was updated by CMS on July 25, 2017. CMS' overall rating includes 60 of the 100 measures for which data is collected & reported on Hospital Compare website (https://www.medicare.gov/hospitalcompare/search.html). Each of the measures have different collection/reporting dates, so it is impossible to specify exactly which time period this dataset covers. For more information about the timeframes for each measure, see: https://www.medicare.gov/hospitalcompare/Data/Data-Updated.html# For more information about the data itself, APIs and a variety of formats, see: https://data.medicare.gov/Hospital-Compare (CMSE 410, Spring 2024, ICA 6)"
   ]
  },
  {
   "cell_type": "code",
   "execution_count": 3,
   "metadata": {},
   "outputs": [],
   "source": [
    "# Make your visualizations here"
   ]
  },
  {
   "cell_type": "markdown",
   "metadata": {},
   "source": [
    "### Part 3.3: Evaluation\n",
    "\n",
    "Now that you've made your visualizations, use the following criteria to describe what the strengths and weaknesses of your visualizations are. These criteria can be applied generally to visualizations you come across.\n",
    "\n",
    "1. What message is this plot trying to convey? (What question or questions is this plot trying to answer, or what is it trying to communicate about the data being visualized?)\n",
    "2. Who is the intended audience of this plot, and what information do you think they will take from this plot?\n",
    "3. What does this plot do effectively? In other words, what visual elements are well-chosen and help to convey information successfully? (Think about this in terms of both specific plot elements as well as general principles for the design of data visualization.)\n",
    "4. What does this plot do poorly? In other words, what visual elements have been chosen in such a way that it fails to effectively convey information?\n",
    "5. What would you recommend that the creators of this plot do in order to improve its effectiveness? (This could include improving its clarity, aesthetic appeal, adding or removing data, or choosing a different means of data representation entirely.) What should be added, removed, or modified in order to more clearly communicate its message?\n",
    "6. Overall, do you feel that the visualization clearly addresses/answers the question(s) that it intends to? \n",
    "(CMSE 410, Spring 2024, ICA 7)"
   ]
  },
  {
   "cell_type": "markdown",
   "metadata": {},
   "source": [
    "<font size=\"+3\">&#9998;</font> Write your answer here"
   ]
  }
 ],
 "metadata": {
  "kernelspec": {
   "display_name": ".venv",
   "language": "python",
   "name": "python3"
  },
  "language_info": {
   "codemirror_mode": {
    "name": "ipython",
    "version": 3
   },
   "file_extension": ".py",
   "mimetype": "text/x-python",
   "name": "python",
   "nbconvert_exporter": "python",
   "pygments_lexer": "ipython3",
   "version": "3.11.9"
  }
 },
 "nbformat": 4,
 "nbformat_minor": 2
}
